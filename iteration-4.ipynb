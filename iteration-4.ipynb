{
 "cells": [
  {
   "cell_type": "code",
   "execution_count": 1,
   "id": "b2e4d718",
   "metadata": {},
   "outputs": [
    {
     "name": "stderr",
     "output_type": "stream",
     "text": [
      "WARNING: An illegal reflective access operation has occurred\n",
      "WARNING: Illegal reflective access by org.apache.spark.unsafe.Platform (file:/home/ubuntu/spark-3.2.1-bin-hadoop2.7/jars/spark-unsafe_2.12-3.2.1.jar) to constructor java.nio.DirectByteBuffer(long,int)\n",
      "WARNING: Please consider reporting this to the maintainers of org.apache.spark.unsafe.Platform\n",
      "WARNING: Use --illegal-access=warn to enable warnings of further illegal reflective access operations\n",
      "WARNING: All illegal access operations will be denied in a future release\n",
      "Using Spark's default log4j profile: org/apache/spark/log4j-defaults.properties\n",
      "Setting default log level to \"WARN\".\n",
      "To adjust logging level use sc.setLogLevel(newLevel). For SparkR, use setLogLevel(newLevel).\n",
      "24/05/23 18:41:21 WARN NativeCodeLoader: Unable to load native-hadoop library for your platform... using builtin-java classes where applicable\n"
     ]
    }
   ],
   "source": [
    "# This code allows us to use PySpark in Jupyter Notebook\n",
    "import findspark\n",
    "findspark.init('/home/ubuntu/spark-3.2.1-bin-hadoop2.7')\n",
    "import pyspark\n",
    "from pyspark.sql import SparkSession\n",
    "spark = SparkSession.builder.appName('iteration-4').getOrCreate()"
   ]
  },
  {
   "cell_type": "code",
   "execution_count": null,
   "id": "f46616ef",
   "metadata": {},
   "outputs": [],
   "source": [
    "### 01-BU\n",
    "# The data mining objective is to explore the relationship between lung cancer and factors studied in the data,\n",
    "# and to identify the key factors or features that significantly increase the risk of getting lung cancer."
   ]
  },
  {
   "cell_type": "code",
   "execution_count": 2,
   "id": "7ff4a0ff",
   "metadata": {},
   "outputs": [],
   "source": [
    "### 02-DU\n",
    "\n",
    "# Load the csv file \"Pesticide and Lung Cancer 1\"\n",
    "LC_1 = spark.read.csv('Pesticide and Lung Cancer 1.csv', header=True, inferSchema=True)\n",
    "display(LC_1.toPandas().head(10))"
   ]
  },
  {
   "cell_type": "code",
   "execution_count": null,
   "id": "d2698201",
   "metadata": {},
   "outputs": [],
   "source": [
    "# Summary Stats\n",
    "LC_1_Summary=LC_1.describe()\n",
    "display(LC_1_Summary.toPandas().head())"
   ]
  },
  {
   "cell_type": "code",
   "execution_count": null,
   "id": "cc2d2abc",
   "metadata": {},
   "outputs": [],
   "source": [
    "# Bar plot\n",
    "import matplotlib.pyplot as plt\n",
    "\n",
    "lung_ca_counts = LC_1.groupBy(\"LungCA\").count()\n",
    "lung_ca_counts.show()\n",
    "\n",
    "lung_ca_counts_pd = lung_ca_counts.toPandas()\n",
    "plt.figure(figsize=(8, 4))\n",
    "plt.bar(lung_ca_counts_pd['LungCA'], lung_ca_counts_pd['count'], color='blue')\n",
    "plt.xlabel('LungCA')\n",
    "plt.ylabel('Count')\n",
    "plt.title('Count of LungCA Categories')\n",
    "plt.show()"
   ]
  },
  {
   "cell_type": "code",
   "execution_count": null,
   "id": "abca3667",
   "metadata": {},
   "outputs": [],
   "source": [
    "# Bar plot\n",
    "import matplotlib.pyplot as plt\n",
    "\n",
    "CigSmoke_counts = LC_1.groupBy(\"CigSmoke\").count()\n",
    "CigSmoke_counts.show()\n",
    "\n",
    "CigSmoke_counts_pd = CigSmoke_counts.toPandas()\n",
    "plt.figure(figsize=(8, 4))\n",
    "plt.bar(CigSmoke_counts_pd['CigSmoke'], CigSmoke_counts_pd['count'], color='blue')\n",
    "plt.xlabel('CigSmoke')\n",
    "plt.ylabel('Count')\n",
    "plt.title('Count of CigSmoke Categories')\n",
    "plt.show()"
   ]
  },
  {
   "cell_type": "code",
   "execution_count": 3,
   "id": "4e37ec89",
   "metadata": {},
   "outputs": [],
   "source": [
    "# Load the csv file \"Pesticide and Lung Cancer 2\"\n",
    "LC_2 = spark.read.csv('Pesticide and Lung Cancer 2.csv', header=True, inferSchema=True)\n",
    "display(LC_2.toPandas().head(10))"
   ]
  },
  {
   "cell_type": "code",
   "execution_count": null,
   "id": "a500a43f",
   "metadata": {},
   "outputs": [],
   "source": [
    "# Summary Stats\n",
    "LC_2_Summary=LC_2.describe()\n",
    "display(LC_2_Summary.toPandas().head())"
   ]
  },
  {
   "cell_type": "code",
   "execution_count": null,
   "id": "a150af19",
   "metadata": {},
   "outputs": [],
   "source": [
    "# Bar plot for Herbicides\n",
    "import matplotlib.pyplot as plt\n",
    "\n",
    "Herbicides_counts = LC_2.groupBy(\"Herbicides\").count()\n",
    "Herbicides_counts_pd = Herbicides_counts.toPandas()\n",
    "plt.figure(figsize=(8, 4))\n",
    "plt.bar(Herbicides_counts_pd['Herbicides'], Herbicides_counts_pd['count'], color='blue')\n",
    "plt.xlabel('Herbicides')\n",
    "plt.ylabel('Count')\n",
    "plt.title('Count of Herbicides Categories')\n",
    "plt.show()\n",
    "\n",
    "# Bar plot for Insecticides\n",
    "\n",
    "Insecticides_counts = LC_2.groupBy(\"Insecticides\").count()\n",
    "Insecticides_counts_pd = Insecticides_counts.toPandas()\n",
    "plt.figure(figsize=(8, 4))\n",
    "plt.bar(Insecticides_counts_pd['Insecticides'], Insecticides_counts_pd['count'], color='blue')\n",
    "plt.xlabel('Insecticides')\n",
    "plt.ylabel('Count')\n",
    "plt.title('Count of Insecticides Categories')\n",
    "plt.show()\n",
    "\n",
    "# Bar plot for Fungicides\n",
    "\n",
    "Fungicides_counts = LC_2.groupBy(\"Fungicides\").count()\n",
    "Fungicides_counts_pd = Fungicides_counts.toPandas()\n",
    "plt.figure(figsize=(8, 4))\n",
    "plt.bar(Fungicides_counts_pd['Fungicides'], Fungicides_counts_pd['count'], color='blue')\n",
    "plt.xlabel('Fungicides')\n",
    "plt.ylabel('Count')\n",
    "plt.title('Count of Fungicides Categories')\n",
    "plt.show()\n"
   ]
  },
  {
   "cell_type": "code",
   "execution_count": null,
   "id": "5226b7f3",
   "metadata": {},
   "outputs": [],
   "source": [
    "# Variable type for LC_1\n",
    "LC_1.printSchema()"
   ]
  },
  {
   "cell_type": "code",
   "execution_count": null,
   "id": "16770b09",
   "metadata": {},
   "outputs": [],
   "source": [
    "# Variable type for LC_2\n",
    "LC_2.printSchema()"
   ]
  },
  {
   "cell_type": "code",
   "execution_count": 4,
   "id": "dc7f5375",
   "metadata": {},
   "outputs": [],
   "source": [
    "# Change data type to integer for LC_2\n",
    "from pyspark.sql.types import (StructField,StringType,IntegerType,StructType)\n",
    "data_schema = [StructField('ID',IntegerType(),True),\n",
    "              StructField('Herbicides',IntegerType(),True),\n",
    "              StructField('Herbicides_year',IntegerType(),True),\n",
    "              StructField('Herbicides_year_group',IntegerType(),True),\n",
    "              StructField('Herbicides_day',IntegerType(),True),\n",
    "              StructField('Herbicides_day_group',IntegerType(),True),\n",
    "              StructField('Insecticides',IntegerType(),True),\n",
    "              StructField('Insecticides_year',IntegerType(),True),\n",
    "              StructField('Insecticides_year_group',IntegerType(),True),\n",
    "              StructField('Insecticides_day',IntegerType(),True),\n",
    "              StructField('Insecticides_day_group',IntegerType(),True),\n",
    "              StructField('Fungicides',IntegerType(),True),\n",
    "              StructField('Fungicides_year',IntegerType(),True),\n",
    "              StructField('Fungicides_year_group',IntegerType(),True),\n",
    "              StructField('Fungicides_day',IntegerType(),True),\n",
    "              StructField('Fungicides_day_group',IntegerType(),True),\n",
    "              StructField('Glyphosate_use',IntegerType(),True),\n",
    "              StructField('Glyphosate_days',IntegerType(),True),\n",
    "              StructField('Paraquat_use',IntegerType(),True),\n",
    "              StructField('Paraquat_days',IntegerType(),True),\n",
    "              StructField('two_four_Dichlorophenoxy_use',IntegerType(),True),\n",
    "              StructField('two_four_Dichlorophenoxy_days',IntegerType(),True),\n",
    "              StructField('Butachlor_use',IntegerType(),True),\n",
    "              StructField('Butachlor_Days',IntegerType(),True),\n",
    "              StructField('Propanil_use',IntegerType(),True),\n",
    "              StructField('Propanil_days',IntegerType(),True),\n",
    "              StructField('Alachlor_use',IntegerType(),True),\n",
    "              StructField('Alachlor_days',IntegerType(),True),\n",
    "              StructField('Endosalfan_use',IntegerType(),True),\n",
    "              StructField('Endosalfan_days',IntegerType(),True),\n",
    "              StructField('Dieldrin_use',IntegerType(),True),\n",
    "              StructField('Dieldrin_days',IntegerType(),True),\n",
    "              StructField('DDT_use',IntegerType(),True),\n",
    "              StructField('DDT_days',IntegerType(),True),\n",
    "              StructField('Chlorpylifos_use',IntegerType(),True),\n",
    "              StructField('Chlorpylifos_days',IntegerType(),True),\n",
    "              StructField('Folidol_use',IntegerType(),True),\n",
    "              StructField('Folidol_days',IntegerType(),True),\n",
    "              StructField('Mevinphos_use',IntegerType(),True),\n",
    "              StructField('Mevinphos_days',IntegerType(),True),\n",
    "              StructField('Carbaryl_Savins_use',IntegerType(),True),\n",
    "              StructField('Carbaryl_Savins_days',IntegerType(),True),\n",
    "              StructField('Carbofuran_use',IntegerType(),True),\n",
    "              StructField('Carbofuran_days',IntegerType(),True),\n",
    "              StructField('Abamectin_use',IntegerType(),True),\n",
    "              StructField('Abamectin_days',IntegerType(),True),\n",
    "              StructField('Armure_Propiconazole_use',IntegerType(),True),\n",
    "              StructField('Armure_Propiconazole_days',IntegerType(),True),\n",
    "              StructField('Metal_aldehyde_use',IntegerType(),True),\n",
    "              StructField('Metal_aldehyde_days',IntegerType(),True),\n",
    "              StructField('Morphology_Group',IntegerType(),True),]\n",
    "\n",
    "final_struct = StructType(fields=data_schema)\n",
    "LC_2= spark.read.csv('Pesticide and Lung Cancer 2.csv', header=True, schema=final_struct)\n",
    "LC_2.printSchema()"
   ]
  },
  {
   "cell_type": "code",
   "execution_count": 5,
   "id": "ce389962",
   "metadata": {},
   "outputs": [],
   "source": [
    "# LC_2 recognises null values\n",
    "LC_2 = LC_2.replace(['', ' '], None)\n",
    "display(LC_2.toPandas().head(10))"
   ]
  },
  {
   "cell_type": "code",
   "execution_count": 6,
   "id": "27ee7b18",
   "metadata": {},
   "outputs": [],
   "source": [
    "### 03-DP\n",
    "\n",
    "# Drop irrelevant columns\n",
    "LC_1 = LC_1.drop(\"Status\", \"Education\", \"Residency\", \"CigSmoke_status\")\n",
    "LC_2 = LC_2.drop(\"Morphology_Group\")"
   ]
  },
  {
   "cell_type": "code",
   "execution_count": 7,
   "id": "a563f79b",
   "metadata": {},
   "outputs": [],
   "source": [
    "# Drop erroneous rows\n",
    "LC_1 = LC_1.filter(~LC_1.ID.isin(403,417,560))\n",
    "LC_2 = LC_2.filter(~LC_2.ID.isin(403,417,560))"
   ]
  },
  {
   "cell_type": "code",
   "execution_count": 8,
   "id": "b153c295",
   "metadata": {},
   "outputs": [],
   "source": [
    "# Fill all null values with 0 for LC_2\n",
    "LC_2=LC_2.na.fill(0)\n",
    "display(LC_2.toPandas().head(10))"
   ]
  },
  {
   "cell_type": "code",
   "execution_count": null,
   "id": "179fcd1f",
   "metadata": {},
   "outputs": [],
   "source": [
    "# Outliers for LC_1 Cigarette_number\n",
    "LC_1.select(\"Cigarette_number\").describe().show()"
   ]
  },
  {
   "cell_type": "code",
   "execution_count": null,
   "id": "8b0974bd",
   "metadata": {},
   "outputs": [],
   "source": [
    "# Show outliers\n",
    "out = LC_1.filter(LC_1['Cigarette_number'] > 26)\n",
    "out.show()"
   ]
  },
  {
   "cell_type": "code",
   "execution_count": 9,
   "id": "9e33296d",
   "metadata": {},
   "outputs": [],
   "source": [
    "# Coerce outlier values to 26\n",
    "from pyspark.sql.functions import when\n",
    "LC_1 = LC_1.withColumn(\"Cigarette_number\", when(LC_1[\"ID\"] == 550, 26).otherwise(LC_1[\"Cigarette_number\"]))\n",
    "LC_1 = LC_1.withColumn(\"Cigarette_number\", when(LC_1[\"ID\"] == 558, 26).otherwise(LC_1[\"Cigarette_number\"]))\n",
    "LC_1 = LC_1.withColumn(\"Cigarette_number\", when(LC_1[\"ID\"] == 601, 26).otherwise(LC_1[\"Cigarette_number\"]))\n",
    "LC_1 = LC_1.withColumn(\"Cigarette_number\", when(LC_1[\"ID\"] == 608, 26).otherwise(LC_1[\"Cigarette_number\"]))\n",
    "LC_1 = LC_1.withColumn(\"Cigarette_number\", when(LC_1[\"ID\"] == 610, 26).otherwise(LC_1[\"Cigarette_number\"]))\n",
    "LC_1 = LC_1.withColumn(\"Cigarette_number\", when(LC_1[\"ID\"] == 627, 26).otherwise(LC_1[\"Cigarette_number\"]))\n",
    "LC_1 = LC_1.withColumn(\"Cigarette_number\", when(LC_1[\"ID\"] == 628, 26).otherwise(LC_1[\"Cigarette_number\"]))\n",
    "LC_1 = LC_1.withColumn(\"Cigarette_number\", when(LC_1[\"ID\"] == 643, 26).otherwise(LC_1[\"Cigarette_number\"]))\n",
    "LC_1 = LC_1.withColumn(\"Cigarette_number\", when(LC_1[\"ID\"] == 676, 26).otherwise(LC_1[\"Cigarette_number\"]))"
   ]
  },
  {
   "cell_type": "code",
   "execution_count": 10,
   "id": "8b557b2d",
   "metadata": {},
   "outputs": [],
   "source": [
    "# Construct new variable Cig_Total_Num\n",
    "LC_1=LC_1.withColumn('Cig_Total_Num',LC_1['Cigarette_number']*LC_1['Cigarette_year']*300)"
   ]
  },
  {
   "cell_type": "code",
   "execution_count": 11,
   "id": "407ece7f",
   "metadata": {},
   "outputs": [],
   "source": [
    "# Combine 2 datasets\n",
    "LC_2 = LC_2.drop(\"ID\")\n",
    "\n",
    "\n",
    "from pyspark.sql.functions import monotonically_increasing_id\n",
    "LC_1 = LC_1.withColumn(\"index\", monotonically_increasing_id())\n",
    "LC_2 = LC_2.withColumn(\"index\", monotonically_increasing_id())\n",
    "LC = LC_1.join(LC_2, \"index\").drop(\"index\")\n",
    "\n",
    "display(LC.toPandas().head(10))"
   ]
  },
  {
   "cell_type": "code",
   "execution_count": 12,
   "id": "57e95cee",
   "metadata": {},
   "outputs": [],
   "source": [
    "# Change column orders\n",
    "new_col_order=['ID', 'LungCA', 'Gender', 'Age', 'Age_group', 'Occupation', 'Distances',\n",
    "       'Cooking_fume', 'Air_Pollution_Exposure', 'CigSmoke', 'Cigarette_year',\n",
    "       'Cigarette_number', 'Cig_Total_Num', 'Herbicides', 'Herbicides_year',\n",
    "       'Herbicides_year_group', 'Herbicides_day', 'Herbicides_day_group',\n",
    "       'Insecticides', 'Insecticides_year', 'Insecticides_year_group',\n",
    "       'Insecticides_day', 'Insecticides_day_group', 'Fungicides',\n",
    "       'Fungicides_year', 'Fungicides_year_group', 'Fungicides_day',\n",
    "       'Fungicides_day_group','Glyphosate_use', 'Glyphosate_days',\n",
    "       'Paraquat_use', 'Paraquat_days', 'two_four_Dichlorophenoxy_use',\n",
    "       'two_four_Dichlorophenoxy_days', 'Butachlor_use', 'Butachlor_Days',\n",
    "       'Propanil_use', 'Propanil_days', 'Alachlor_use', 'Alachlor_days',\n",
    "       'Endosalfan_use', 'Endosalfan_days', 'Dieldrin_use', 'Dieldrin_days',\n",
    "       'DDT_use', 'DDT_days', 'Chlorpylifos_use', 'Chlorpylifos_days',\n",
    "       'Folidol_use', 'Folidol_days', 'Mevinphos_use', 'Mevinphos_days',\n",
    "       'Carbaryl_Savins_use', 'Carbaryl_Savins_days', 'Carbofuran_use',\n",
    "       'Carbofuran_days', 'Abamectin_use', 'Abamectin_days',\n",
    "       'Armure_Propiconazole_use', 'Armure_Propiconazole_days',\n",
    "       'Metal_aldehyde_use', 'Metal_aldehyde_days']\n",
    "LC_df = LC.select(new_col_order)"
   ]
  },
  {
   "cell_type": "code",
   "execution_count": 13,
   "id": "bd366ca5",
   "metadata": {},
   "outputs": [
    {
     "name": "stderr",
     "output_type": "stream",
     "text": [
      "24/05/23 18:43:04 WARN package: Truncated the string representation of a plan since it was too large. This behavior can be adjusted by setting 'spark.sql.debug.maxToStringFields'.\n"
     ]
    }
   ],
   "source": [
    "LC_df = LC_df.toPandas()"
   ]
  },
  {
   "cell_type": "code",
   "execution_count": 14,
   "id": "cc15e5ae",
   "metadata": {},
   "outputs": [
    {
     "name": "stdout",
     "output_type": "stream",
     "text": [
      "Defaulting to user installation because normal site-packages is not writeable\n",
      "Requirement already satisfied: scikit-learn in /home/ubuntu/.local/lib/python3.10/site-packages (1.4.2)\n",
      "Requirement already satisfied: threadpoolctl>=2.0.0 in /home/ubuntu/.local/lib/python3.10/site-packages (from scikit-learn) (3.5.0)\n",
      "Requirement already satisfied: joblib>=1.2.0 in /home/ubuntu/.local/lib/python3.10/site-packages (from scikit-learn) (1.4.2)\n",
      "Requirement already satisfied: scipy>=1.6.0 in /home/ubuntu/.local/lib/python3.10/site-packages (from scikit-learn) (1.8.1)\n",
      "Requirement already satisfied: numpy>=1.19.5 in /home/ubuntu/.local/lib/python3.10/site-packages (from scikit-learn) (1.22.4)\n"
     ]
    }
   ],
   "source": [
    "!pip install scikit-learn"
   ]
  },
  {
   "cell_type": "code",
   "execution_count": 15,
   "id": "aed17a34",
   "metadata": {},
   "outputs": [
    {
     "name": "stdout",
     "output_type": "stream",
     "text": [
      "Selected features: [1, 5, 9, 12, 13, 14, 33, 36, 37, 41, 42, 43, 45, 50, 53, 54]\n",
      "Accuracy: 0.6838235294117647\n"
     ]
    }
   ],
   "source": [
    "### 04-DT\n",
    "\n",
    "# Feature Selection\n",
    "from sklearn.linear_model import LogisticRegression\n",
    "from sklearn.model_selection import train_test_split\n",
    "from sklearn.preprocessing import StandardScaler\n",
    "\n",
    "LC_data = LC_df.iloc[:, 2:]\n",
    "LC_target = LC_df['LungCA']\n",
    "X, y = LC_data, LC_target \n",
    "\n",
    "X_train, X_test, y_train, y_test = train_test_split(X, y, test_size=0.2, random_state=42)\n",
    "\n",
    "scaler = StandardScaler()\n",
    "X_train_scaled = scaler.fit_transform(X_train)\n",
    "X_test_scaled = scaler.transform(X_test)\n",
    "\n",
    "logreg = LogisticRegression(penalty='l1', solver='liblinear', C=0.08)\n",
    "logreg.fit(X_train_scaled, y_train)\n",
    "\n",
    "selected_features = [index for index, coef in enumerate(logreg.coef_[0]) if coef != 0]\n",
    "\n",
    "print(\"Selected features:\", selected_features)\n",
    "\n",
    "accuracy = logreg.score(X_test_scaled, y_test)\n",
    "print(\"Accuracy:\", accuracy)"
   ]
  },
  {
   "cell_type": "code",
   "execution_count": 16,
   "id": "5a50bd63",
   "metadata": {},
   "outputs": [
    {
     "name": "stdout",
     "output_type": "stream",
     "text": [
      "Index(['Age', 'Cooking_fume', 'Cigarette_number', 'Herbicides_year',\n",
      "       'Herbicides_year_group', 'Herbicides_day', 'Butachlor_Days',\n",
      "       'Alachlor_use', 'Alachlor_days', 'Dieldrin_days', 'DDT_use', 'DDT_days',\n",
      "       'Chlorpylifos_days', 'Carbaryl_Savins_use', 'Carbofuran_days',\n",
      "       'Abamectin_use'],\n",
      "      dtype='object')\n"
     ]
    }
   ],
   "source": [
    "# Selected features\n",
    "print(LC_data.columns[[1, 5, 9, 12, 13, 14, 33, 36, 37, 41, 42, 43, 45, 50, 53, 54]])"
   ]
  },
  {
   "cell_type": "code",
   "execution_count": 17,
   "id": "45180773",
   "metadata": {},
   "outputs": [
    {
     "data": {
      "text/plain": [
       "<AxesSubplot:>"
      ]
     },
     "execution_count": 17,
     "metadata": {},
     "output_type": "execute_result"
    },
    {
     "data": {
      "image/png": "[encoded data removed]",
      "text/plain": [
       "<Figure size 432x288 with 1 Axes>"
      ]
     },
     "metadata": {
      "needs_background": "light"
     },
     "output_type": "display_data"
    }
   ],
   "source": [
    "# Boosting uneven data\n",
    "import pandas as pd\n",
    "from sklearn.utils import resample\n",
    "LC_df_NCA=LC_df[LC_df['LungCA']==0] \n",
    "LC_df_CA=LC_df[LC_df['LungCA']==1] \n",
    "LC_df_CA_boost=resample(LC_df_CA,replace=True,n_samples=len(LC_df_NCA))\n",
    "LC_df_boosted=pd.concat([LC_df_NCA,LC_df_CA_boost])\n",
    "LC_df_boosted['LungCA'].value_counts().plot.bar()"
   ]
  },
  {
   "cell_type": "code",
   "execution_count": 18,
   "id": "9aa9cbbd",
   "metadata": {},
   "outputs": [],
   "source": [
    "# Create target and attributes\n",
    "LC_target=LC_df_boosted['LungCA']\n",
    "LC_selected_data=LC_df_boosted[['Age', 'Cooking_fume', 'Cigarette_number', 'Herbicides_year',\n",
    "       'Herbicides_year_group', 'Herbicides_day', 'Butachlor_Days',\n",
    "       'Alachlor_use', 'Alachlor_days', 'Dieldrin_days', 'DDT_use', 'DDT_days',\n",
    "       'Chlorpylifos_days', 'Carbaryl_Savins_use', 'Carbofuran_days',\n",
    "       'Abamectin_use']]"
   ]
  },
  {
   "cell_type": "code",
   "execution_count": 19,
   "id": "cbd6b638",
   "metadata": {},
   "outputs": [],
   "source": [
    "# Transform Cig_Total_Num\n",
    "LC_df_boosted['Cig_Total_Num'].value_counts().plot.bar()\n",
    "\n",
    "import numpy as np\n",
    "LC_df_boosted['Cig_Total_Num']=np.sqrt(LC_df_boosted['Cig_Total_Num'])"
   ]
  },
  {
   "cell_type": "code",
   "execution_count": null,
   "id": "0afbd7cb",
   "metadata": {},
   "outputs": [],
   "source": [
    "### 05-DMM\n",
    "# 'Supervised Learning-Classification'"
   ]
  },
  {
   "cell_type": "code",
   "execution_count": null,
   "id": "7f5cae16",
   "metadata": {},
   "outputs": [],
   "source": [
    "### 06-DMA\n",
    "\n"
   ]
  }
 ],
 "metadata": {
  "kernelspec": {
   "display_name": "Python 3 (ipykernel)",
   "language": "python",
   "name": "python3"
  },
  "language_info": {
   "codemirror_mode": {
    "name": "ipython",
    "version": 3
   },
   "file_extension": ".py",
   "mimetype": "text/x-python",
   "name": "python",
   "nbconvert_exporter": "python",
   "pygments_lexer": "ipython3",
   "version": "3.10.12"
  }
 },
 "nbformat": 4,
 "nbformat_minor": 5
}
