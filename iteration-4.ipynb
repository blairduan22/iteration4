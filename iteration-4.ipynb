{
 "cells": [
  {
   "cell_type": "code",
   "execution_count": 1,
   "id": "b2e4d718",
   "metadata": {},
   "outputs": [
    {
     "name": "stderr",
     "output_type": "stream",
     "text": [
      "WARNING: An illegal reflective access operation has occurred\n",
      "WARNING: Illegal reflective access by org.apache.spark.unsafe.Platform (file:/home/ubuntu/spark-3.2.1-bin-hadoop2.7/jars/spark-unsafe_2.12-3.2.1.jar) to constructor java.nio.DirectByteBuffer(long,int)\n",
      "WARNING: Please consider reporting this to the maintainers of org.apache.spark.unsafe.Platform\n",
      "WARNING: Use --illegal-access=warn to enable warnings of further illegal reflective access operations\n",
      "WARNING: All illegal access operations will be denied in a future release\n",
      "Using Spark's default log4j profile: org/apache/spark/log4j-defaults.properties\n",
      "Setting default log level to \"WARN\".\n",
      "To adjust logging level use sc.setLogLevel(newLevel). For SparkR, use setLogLevel(newLevel).\n",
      "24/05/23 21:27:35 WARN NativeCodeLoader: Unable to load native-hadoop library for your platform... using builtin-java classes where applicable\n"
     ]
    }
   ],
   "source": [
    "# This code allows us to use PySpark in Jupyter Notebook\n",
    "import findspark\n",
    "findspark.init('/home/ubuntu/spark-3.2.1-bin-hadoop2.7')\n",
    "import pyspark\n",
    "from pyspark.sql import SparkSession\n",
    "spark = SparkSession.builder.appName('iteration-4').getOrCreate()"
   ]
  },
  {
   "cell_type": "code",
   "execution_count": null,
   "id": "f46616ef",
   "metadata": {},
   "outputs": [],
   "source": [
    "### 01-BU\n",
    "# The data mining objective is to explore the relationship between lung cancer and factors studied in the data,\n",
    "# and to identify the key factors or features that significantly increase the risk of getting lung cancer."
   ]
  },
  {
   "cell_type": "code",
   "execution_count": 2,
   "id": "7ff4a0ff",
   "metadata": {},
   "outputs": [],
   "source": [
    "### 02-DU\n",
    "\n",
    "# Load the csv file \"Pesticide and Lung Cancer 1\"\n",
    "LC_1 = spark.read.csv('Pesticide and Lung Cancer 1.csv', header=True, inferSchema=True)\n",
    "display(LC_1.toPandas().head(10))"
   ]
  },
  {
   "cell_type": "code",
   "execution_count": null,
   "id": "d2698201",
   "metadata": {},
   "outputs": [],
   "source": [
    "# Summary Stats\n",
    "LC_1_Summary=LC_1.describe()\n",
    "display(LC_1_Summary.toPandas().head())"
   ]
  },
  {
   "cell_type": "code",
   "execution_count": null,
   "id": "cc2d2abc",
   "metadata": {},
   "outputs": [],
   "source": [
    "# Bar plot\n",
    "import matplotlib.pyplot as plt\n",
    "\n",
    "lung_ca_counts = LC_1.groupBy(\"LungCA\").count()\n",
    "lung_ca_counts.show()\n",
    "\n",
    "lung_ca_counts_pd = lung_ca_counts.toPandas()\n",
    "plt.figure(figsize=(8, 4))\n",
    "plt.bar(lung_ca_counts_pd['LungCA'], lung_ca_counts_pd['count'], color='blue')\n",
    "plt.xlabel('LungCA')\n",
    "plt.ylabel('Count')\n",
    "plt.title('Count of LungCA Categories')\n",
    "plt.show()"
   ]
  },
  {
   "cell_type": "code",
   "execution_count": null,
   "id": "abca3667",
   "metadata": {},
   "outputs": [],
   "source": [
    "# Bar plot\n",
    "import matplotlib.pyplot as plt\n",
    "\n",
    "CigSmoke_counts = LC_1.groupBy(\"CigSmoke\").count()\n",
    "CigSmoke_counts.show()\n",
    "\n",
    "CigSmoke_counts_pd = CigSmoke_counts.toPandas()\n",
    "plt.figure(figsize=(8, 4))\n",
    "plt.bar(CigSmoke_counts_pd['CigSmoke'], CigSmoke_counts_pd['count'], color='blue')\n",
    "plt.xlabel('CigSmoke')\n",
    "plt.ylabel('Count')\n",
    "plt.title('Count of CigSmoke Categories')\n",
    "plt.show()"
   ]
  },
  {
   "cell_type": "code",
   "execution_count": 3,
   "id": "4e37ec89",
   "metadata": {},
   "outputs": [],
   "source": [
    "# Load the csv file \"Pesticide and Lung Cancer 2\"\n",
    "LC_2 = spark.read.csv('Pesticide and Lung Cancer 2.csv', header=True, inferSchema=True)\n",
    "display(LC_2.toPandas().head(10))"
   ]
  },
  {
   "cell_type": "code",
   "execution_count": null,
   "id": "a500a43f",
   "metadata": {},
   "outputs": [],
   "source": [
    "# Summary Stats\n",
    "LC_2_Summary=LC_2.describe()\n",
    "display(LC_2_Summary.toPandas().head())"
   ]
  },
  {
   "cell_type": "code",
   "execution_count": null,
   "id": "a150af19",
   "metadata": {},
   "outputs": [],
   "source": [
    "# Bar plot for Herbicides\n",
    "import matplotlib.pyplot as plt\n",
    "\n",
    "Herbicides_counts = LC_2.groupBy(\"Herbicides\").count()\n",
    "Herbicides_counts_pd = Herbicides_counts.toPandas()\n",
    "plt.figure(figsize=(8, 4))\n",
    "plt.bar(Herbicides_counts_pd['Herbicides'], Herbicides_counts_pd['count'], color='blue')\n",
    "plt.xlabel('Herbicides')\n",
    "plt.ylabel('Count')\n",
    "plt.title('Count of Herbicides Categories')\n",
    "plt.show()\n",
    "\n",
    "# Bar plot for Insecticides\n",
    "\n",
    "Insecticides_counts = LC_2.groupBy(\"Insecticides\").count()\n",
    "Insecticides_counts_pd = Insecticides_counts.toPandas()\n",
    "plt.figure(figsize=(8, 4))\n",
    "plt.bar(Insecticides_counts_pd['Insecticides'], Insecticides_counts_pd['count'], color='blue')\n",
    "plt.xlabel('Insecticides')\n",
    "plt.ylabel('Count')\n",
    "plt.title('Count of Insecticides Categories')\n",
    "plt.show()\n",
    "\n",
    "# Bar plot for Fungicides\n",
    "\n",
    "Fungicides_counts = LC_2.groupBy(\"Fungicides\").count()\n",
    "Fungicides_counts_pd = Fungicides_counts.toPandas()\n",
    "plt.figure(figsize=(8, 4))\n",
    "plt.bar(Fungicides_counts_pd['Fungicides'], Fungicides_counts_pd['count'], color='blue')\n",
    "plt.xlabel('Fungicides')\n",
    "plt.ylabel('Count')\n",
    "plt.title('Count of Fungicides Categories')\n",
    "plt.show()\n"
   ]
  },
  {
   "cell_type": "code",
   "execution_count": null,
   "id": "5226b7f3",
   "metadata": {},
   "outputs": [],
   "source": [
    "# Variable type for LC_1\n",
    "LC_1.printSchema()"
   ]
  },
  {
   "cell_type": "code",
   "execution_count": null,
   "id": "16770b09",
   "metadata": {},
   "outputs": [],
   "source": [
    "# Variable type for LC_2\n",
    "LC_2.printSchema()"
   ]
  },
  {
   "cell_type": "code",
   "execution_count": 4,
   "id": "dc7f5375",
   "metadata": {},
   "outputs": [],
   "source": [
    "# Change data type to integer for LC_2\n",
    "from pyspark.sql.types import (StructField,StringType,IntegerType,StructType)\n",
    "data_schema = [StructField('ID',IntegerType(),True),\n",
    "              StructField('Herbicides',IntegerType(),True),\n",
    "              StructField('Herbicides_year',IntegerType(),True),\n",
    "              StructField('Herbicides_year_group',IntegerType(),True),\n",
    "              StructField('Herbicides_day',IntegerType(),True),\n",
    "              StructField('Herbicides_day_group',IntegerType(),True),\n",
    "              StructField('Insecticides',IntegerType(),True),\n",
    "              StructField('Insecticides_year',IntegerType(),True),\n",
    "              StructField('Insecticides_year_group',IntegerType(),True),\n",
    "              StructField('Insecticides_day',IntegerType(),True),\n",
    "              StructField('Insecticides_day_group',IntegerType(),True),\n",
    "              StructField('Fungicides',IntegerType(),True),\n",
    "              StructField('Fungicides_year',IntegerType(),True),\n",
    "              StructField('Fungicides_year_group',IntegerType(),True),\n",
    "              StructField('Fungicides_day',IntegerType(),True),\n",
    "              StructField('Fungicides_day_group',IntegerType(),True),\n",
    "              StructField('Glyphosate_use',IntegerType(),True),\n",
    "              StructField('Glyphosate_days',IntegerType(),True),\n",
    "              StructField('Paraquat_use',IntegerType(),True),\n",
    "              StructField('Paraquat_days',IntegerType(),True),\n",
    "              StructField('two_four_Dichlorophenoxy_use',IntegerType(),True),\n",
    "              StructField('two_four_Dichlorophenoxy_days',IntegerType(),True),\n",
    "              StructField('Butachlor_use',IntegerType(),True),\n",
    "              StructField('Butachlor_Days',IntegerType(),True),\n",
    "              StructField('Propanil_use',IntegerType(),True),\n",
    "              StructField('Propanil_days',IntegerType(),True),\n",
    "              StructField('Alachlor_use',IntegerType(),True),\n",
    "              StructField('Alachlor_days',IntegerType(),True),\n",
    "              StructField('Endosalfan_use',IntegerType(),True),\n",
    "              StructField('Endosalfan_days',IntegerType(),True),\n",
    "              StructField('Dieldrin_use',IntegerType(),True),\n",
    "              StructField('Dieldrin_days',IntegerType(),True),\n",
    "              StructField('DDT_use',IntegerType(),True),\n",
    "              StructField('DDT_days',IntegerType(),True),\n",
    "              StructField('Chlorpylifos_use',IntegerType(),True),\n",
    "              StructField('Chlorpylifos_days',IntegerType(),True),\n",
    "              StructField('Folidol_use',IntegerType(),True),\n",
    "              StructField('Folidol_days',IntegerType(),True),\n",
    "              StructField('Mevinphos_use',IntegerType(),True),\n",
    "              StructField('Mevinphos_days',IntegerType(),True),\n",
    "              StructField('Carbaryl_Savins_use',IntegerType(),True),\n",
    "              StructField('Carbaryl_Savins_days',IntegerType(),True),\n",
    "              StructField('Carbofuran_use',IntegerType(),True),\n",
    "              StructField('Carbofuran_days',IntegerType(),True),\n",
    "              StructField('Abamectin_use',IntegerType(),True),\n",
    "              StructField('Abamectin_days',IntegerType(),True),\n",
    "              StructField('Armure_Propiconazole_use',IntegerType(),True),\n",
    "              StructField('Armure_Propiconazole_days',IntegerType(),True),\n",
    "              StructField('Metal_aldehyde_use',IntegerType(),True),\n",
    "              StructField('Metal_aldehyde_days',IntegerType(),True),\n",
    "              StructField('Morphology_Group',IntegerType(),True),]\n",
    "\n",
    "final_struct = StructType(fields=data_schema)\n",
    "LC_2= spark.read.csv('Pesticide and Lung Cancer 2.csv', header=True, schema=final_struct)\n",
    "LC_2.printSchema()"
   ]
  },
  {
   "cell_type": "code",
   "execution_count": 5,
   "id": "ce389962",
   "metadata": {},
   "outputs": [],
   "source": [
    "# LC_2 recognises null values\n",
    "LC_2 = LC_2.replace(['', ' '], None)\n",
    "display(LC_2.toPandas().head(10))"
   ]
  },
  {
   "cell_type": "code",
   "execution_count": 6,
   "id": "27ee7b18",
   "metadata": {},
   "outputs": [],
   "source": [
    "### 03-DP\n",
    "\n",
    "# Drop irrelevant columns\n",
    "LC_1 = LC_1.drop(\"Status\", \"Education\", \"Residency\", \"CigSmoke_status\")\n",
    "LC_2 = LC_2.drop(\"Morphology_Group\")"
   ]
  },
  {
   "cell_type": "code",
   "execution_count": 7,
   "id": "a563f79b",
   "metadata": {},
   "outputs": [],
   "source": [
    "# Drop erroneous rows\n",
    "LC_1 = LC_1.filter(~LC_1.ID.isin(403,417,560))\n",
    "LC_2 = LC_2.filter(~LC_2.ID.isin(403,417,560))"
   ]
  },
  {
   "cell_type": "code",
   "execution_count": 8,
   "id": "b153c295",
   "metadata": {},
   "outputs": [],
   "source": [
    "# Fill all null values with 0 for LC_2\n",
    "LC_2=LC_2.na.fill(0)\n",
    "display(LC_2.toPandas().head(10))"
   ]
  },
  {
   "cell_type": "code",
   "execution_count": null,
   "id": "179fcd1f",
   "metadata": {},
   "outputs": [],
   "source": [
    "# Outliers for LC_1 Cigarette_number\n",
    "LC_1.select(\"Cigarette_number\").describe().show()"
   ]
  },
  {
   "cell_type": "code",
   "execution_count": null,
   "id": "8b0974bd",
   "metadata": {},
   "outputs": [],
   "source": [
    "# Show outliers\n",
    "out = LC_1.filter(LC_1['Cigarette_number'] > 26)\n",
    "out.show()"
   ]
  },
  {
   "cell_type": "code",
   "execution_count": 9,
   "id": "9e33296d",
   "metadata": {},
   "outputs": [],
   "source": [
    "# Coerce outlier values to 26\n",
    "from pyspark.sql.functions import when\n",
    "LC_1 = LC_1.withColumn(\"Cigarette_number\", when(LC_1[\"ID\"] == 550, 26).otherwise(LC_1[\"Cigarette_number\"]))\n",
    "LC_1 = LC_1.withColumn(\"Cigarette_number\", when(LC_1[\"ID\"] == 558, 26).otherwise(LC_1[\"Cigarette_number\"]))\n",
    "LC_1 = LC_1.withColumn(\"Cigarette_number\", when(LC_1[\"ID\"] == 601, 26).otherwise(LC_1[\"Cigarette_number\"]))\n",
    "LC_1 = LC_1.withColumn(\"Cigarette_number\", when(LC_1[\"ID\"] == 608, 26).otherwise(LC_1[\"Cigarette_number\"]))\n",
    "LC_1 = LC_1.withColumn(\"Cigarette_number\", when(LC_1[\"ID\"] == 610, 26).otherwise(LC_1[\"Cigarette_number\"]))\n",
    "LC_1 = LC_1.withColumn(\"Cigarette_number\", when(LC_1[\"ID\"] == 627, 26).otherwise(LC_1[\"Cigarette_number\"]))\n",
    "LC_1 = LC_1.withColumn(\"Cigarette_number\", when(LC_1[\"ID\"] == 628, 26).otherwise(LC_1[\"Cigarette_number\"]))\n",
    "LC_1 = LC_1.withColumn(\"Cigarette_number\", when(LC_1[\"ID\"] == 643, 26).otherwise(LC_1[\"Cigarette_number\"]))\n",
    "LC_1 = LC_1.withColumn(\"Cigarette_number\", when(LC_1[\"ID\"] == 676, 26).otherwise(LC_1[\"Cigarette_number\"]))"
   ]
  },
  {
   "cell_type": "code",
   "execution_count": 10,
   "id": "8b557b2d",
   "metadata": {},
   "outputs": [],
   "source": [
    "# Construct new variable Cig_Total_Num\n",
    "LC_1=LC_1.withColumn('Cig_Total_Num',LC_1['Cigarette_number']*LC_1['Cigarette_year']*300)"
   ]
  },
  {
   "cell_type": "code",
   "execution_count": 11,
   "id": "407ece7f",
   "metadata": {},
   "outputs": [],
   "source": [
    "# Combine 2 datasets\n",
    "LC_2 = LC_2.drop(\"ID\")\n",
    "\n",
    "\n",
    "from pyspark.sql.functions import monotonically_increasing_id\n",
    "LC_1 = LC_1.withColumn(\"index\", monotonically_increasing_id())\n",
    "LC_2 = LC_2.withColumn(\"index\", monotonically_increasing_id())\n",
    "LC = LC_1.join(LC_2, \"index\").drop(\"index\")\n",
    "\n",
    "display(LC.toPandas().head(10))"
   ]
  },
  {
   "cell_type": "code",
   "execution_count": 12,
   "id": "57e95cee",
   "metadata": {},
   "outputs": [],
   "source": [
    "# Change column orders\n",
    "new_col_order=['ID', 'LungCA', 'Gender', 'Age', 'Age_group', 'Occupation', 'Distances',\n",
    "       'Cooking_fume', 'Air_Pollution_Exposure', 'CigSmoke', 'Cigarette_year',\n",
    "       'Cigarette_number', 'Cig_Total_Num', 'Herbicides', 'Herbicides_year',\n",
    "       'Herbicides_year_group', 'Herbicides_day', 'Herbicides_day_group',\n",
    "       'Insecticides', 'Insecticides_year', 'Insecticides_year_group',\n",
    "       'Insecticides_day', 'Insecticides_day_group', 'Fungicides',\n",
    "       'Fungicides_year', 'Fungicides_year_group', 'Fungicides_day',\n",
    "       'Fungicides_day_group','Glyphosate_use', 'Glyphosate_days',\n",
    "       'Paraquat_use', 'Paraquat_days', 'two_four_Dichlorophenoxy_use',\n",
    "       'two_four_Dichlorophenoxy_days', 'Butachlor_use', 'Butachlor_Days',\n",
    "       'Propanil_use', 'Propanil_days', 'Alachlor_use', 'Alachlor_days',\n",
    "       'Endosalfan_use', 'Endosalfan_days', 'Dieldrin_use', 'Dieldrin_days',\n",
    "       'DDT_use', 'DDT_days', 'Chlorpylifos_use', 'Chlorpylifos_days',\n",
    "       'Folidol_use', 'Folidol_days', 'Mevinphos_use', 'Mevinphos_days',\n",
    "       'Carbaryl_Savins_use', 'Carbaryl_Savins_days', 'Carbofuran_use',\n",
    "       'Carbofuran_days', 'Abamectin_use', 'Abamectin_days',\n",
    "       'Armure_Propiconazole_use', 'Armure_Propiconazole_days',\n",
    "       'Metal_aldehyde_use', 'Metal_aldehyde_days']\n",
    "LC_df = LC.select(new_col_order)"
   ]
  },
  {
   "cell_type": "code",
   "execution_count": 13,
   "id": "bd366ca5",
   "metadata": {},
   "outputs": [
    {
     "name": "stderr",
     "output_type": "stream",
     "text": [
      "24/05/23 21:29:03 WARN package: Truncated the string representation of a plan since it was too large. This behavior can be adjusted by setting 'spark.sql.debug.maxToStringFields'.\n"
     ]
    }
   ],
   "source": [
    "LC_df = LC_df.toPandas()"
   ]
  },
  {
   "cell_type": "code",
   "execution_count": 14,
   "id": "cc15e5ae",
   "metadata": {},
   "outputs": [
    {
     "name": "stdout",
     "output_type": "stream",
     "text": [
      "Defaulting to user installation because normal site-packages is not writeable\n",
      "Requirement already satisfied: scikit-learn in /home/ubuntu/.local/lib/python3.10/site-packages (1.4.2)\n",
      "Requirement already satisfied: scipy>=1.6.0 in /home/ubuntu/.local/lib/python3.10/site-packages (from scikit-learn) (1.8.1)\n",
      "Requirement already satisfied: joblib>=1.2.0 in /home/ubuntu/.local/lib/python3.10/site-packages (from scikit-learn) (1.4.2)\n",
      "Requirement already satisfied: numpy>=1.19.5 in /home/ubuntu/.local/lib/python3.10/site-packages (from scikit-learn) (1.22.4)\n",
      "Requirement already satisfied: threadpoolctl>=2.0.0 in /home/ubuntu/.local/lib/python3.10/site-packages (from scikit-learn) (3.5.0)\n"
     ]
    }
   ],
   "source": [
    "!pip install scikit-learn"
   ]
  },
  {
   "cell_type": "code",
   "execution_count": null,
   "id": "aed17a34",
   "metadata": {},
   "outputs": [],
   "source": [
    "### 04-DT\n",
    "\n",
    "# Feature Selection\n",
    "from sklearn.linear_model import LogisticRegression\n",
    "from sklearn.model_selection import train_test_split\n",
    "from sklearn.preprocessing import StandardScaler\n",
    "\n",
    "LC_data = LC_df.iloc[:, 2:]\n",
    "LC_target = LC_df['LungCA']\n",
    "X, y = LC_data, LC_target \n",
    "\n",
    "X_train, X_test, y_train, y_test = train_test_split(X, y, test_size=0.2, random_state=42)\n",
    "\n",
    "scaler = StandardScaler()\n",
    "X_train_scaled = scaler.fit_transform(X_train)\n",
    "X_test_scaled = scaler.transform(X_test)\n",
    "\n",
    "logreg = LogisticRegression(penalty='l1', solver='liblinear', C=0.08)\n",
    "logreg.fit(X_train_scaled, y_train)\n",
    "\n",
    "selected_features = [index for index, coef in enumerate(logreg.coef_[0]) if coef != 0]\n",
    "\n",
    "print(\"Selected features:\", selected_features)\n",
    "\n",
    "accuracy = logreg.score(X_test_scaled, y_test)\n",
    "print(\"Accuracy:\", accuracy)"
   ]
  },
  {
   "cell_type": "code",
   "execution_count": null,
   "id": "5a50bd63",
   "metadata": {},
   "outputs": [],
   "source": [
    "# Selected features\n",
    "print(LC_data.columns[[1, 5, 9, 12, 13, 14, 33, 36, 37, 41, 42, 43, 45, 50, 53, 54]])"
   ]
  },
  {
   "cell_type": "code",
   "execution_count": 15,
   "id": "45180773",
   "metadata": {},
   "outputs": [],
   "source": [
    "# Boosting uneven data\n",
    "import pandas as pd\n",
    "from sklearn.utils import resample\n",
    "LC_df_NCA=LC_df[LC_df['LungCA']==0] \n",
    "LC_df_CA=LC_df[LC_df['LungCA']==1] \n",
    "LC_df_CA_boost=resample(LC_df_CA,replace=True,n_samples=len(LC_df_NCA))\n",
    "LC_df_boosted=pd.concat([LC_df_NCA,LC_df_CA_boost])\n",
    "LC_df_boosted['LungCA'].value_counts().plot.bar()"
   ]
  },
  {
   "cell_type": "code",
   "execution_count": 16,
   "id": "9aa9cbbd",
   "metadata": {},
   "outputs": [],
   "source": [
    "# Create target and attributes\n",
    "LC_target=LC_df_boosted['LungCA']\n",
    "LC_selected_data=LC_df_boosted[['Age', 'Cooking_fume', 'Cigarette_number', 'Herbicides_year',\n",
    "       'Herbicides_year_group', 'Herbicides_day', 'Butachlor_Days',\n",
    "       'Alachlor_use', 'Alachlor_days', 'Dieldrin_days', 'DDT_use', 'DDT_days',\n",
    "       'Chlorpylifos_days', 'Carbaryl_Savins_use', 'Carbofuran_days',\n",
    "       'Abamectin_use']]"
   ]
  },
  {
   "cell_type": "code",
   "execution_count": 17,
   "id": "cbd6b638",
   "metadata": {},
   "outputs": [],
   "source": [
    "# Transform Cig_Total_Num\n",
    "LC_df_boosted['Cig_Total_Num'].value_counts().plot.bar()\n",
    "\n",
    "import numpy as np\n",
    "LC_df_boosted['Cig_Total_Num']=np.sqrt(LC_df_boosted['Cig_Total_Num'])"
   ]
  },
  {
   "cell_type": "code",
   "execution_count": null,
   "id": "0afbd7cb",
   "metadata": {},
   "outputs": [],
   "source": [
    "### 05-DMM\n",
    "# 'Supervised Learning-Classification'"
   ]
  },
  {
   "cell_type": "code",
   "execution_count": 20,
   "id": "7f5cae16",
   "metadata": {},
   "outputs": [
    {
     "name": "stdout",
     "output_type": "stream",
     "text": [
      "Accuracy: 0.6815642458100558\n"
     ]
    },
    {
     "name": "stderr",
     "output_type": "stream",
     "text": [
      "/home/ubuntu/.local/lib/python3.10/site-packages/sklearn/linear_model/_logistic.py:469: ConvergenceWarning: lbfgs failed to converge (status=1):\n",
      "STOP: TOTAL NO. of ITERATIONS REACHED LIMIT.\n",
      "\n",
      "Increase the number of iterations (max_iter) or scale the data as shown in:\n",
      "    https://scikit-learn.org/stable/modules/preprocessing.html\n",
      "Please also refer to the documentation for alternative solver options:\n",
      "    https://scikit-learn.org/stable/modules/linear_model.html#logistic-regression\n",
      "  n_iter_i = _check_optimize_result(\n"
     ]
    }
   ],
   "source": [
    "### 06-DMA\n",
    "\n",
    "# Logistic Regression\n",
    "import pandas as pd\n",
    "from sklearn.model_selection import train_test_split\n",
    "from sklearn.linear_model import LogisticRegression\n",
    "from sklearn.metrics import accuracy_score\n",
    "\n",
    "X=LC_selected_data\n",
    "y=LC_target\n",
    "\n",
    "X_train, X_test, y_train, y_test = train_test_split(X, y, test_size=0.2, random_state=42)\n",
    "\n",
    "logreg = LogisticRegression()\n",
    "logreg.fit(X_train, y_train)\n",
    "\n",
    "y_pred = logreg.predict(X_test)\n",
    "\n",
    "accuracy = accuracy_score(y_test, y_pred)\n",
    "print(\"Accuracy:\", accuracy)"
   ]
  },
  {
   "cell_type": "code",
   "execution_count": 21,
   "id": "24537da1",
   "metadata": {},
   "outputs": [
    {
     "data": {
      "text/plain": [
       "0.5865921787709497"
      ]
     },
     "execution_count": 21,
     "metadata": {},
     "output_type": "execute_result"
    }
   ],
   "source": [
    "# Naive Baye\n",
    "from sklearn.naive_bayes import GaussianNB\n",
    "\n",
    "NBfit=GaussianNB().fit(X_train,y_train) \n",
    "\n",
    "NBfit.score(X_test,y_test)"
   ]
  },
  {
   "cell_type": "code",
   "execution_count": 18,
   "id": "d1d08adc",
   "metadata": {},
   "outputs": [
    {
     "name": "stdout",
     "output_type": "stream",
     "text": [
      "Defaulting to user installation because normal site-packages is not writeable\n",
      "Requirement already satisfied: statsmodels in /home/ubuntu/.local/lib/python3.10/site-packages (0.14.2)\n",
      "Requirement already satisfied: packaging>=21.3 in /home/ubuntu/.local/lib/python3.10/site-packages (from statsmodels) (21.3)\n",
      "Requirement already satisfied: pandas!=2.1.0,>=1.4 in /home/ubuntu/.local/lib/python3.10/site-packages (from statsmodels) (1.4.2)\n",
      "Requirement already satisfied: numpy>=1.22.3 in /home/ubuntu/.local/lib/python3.10/site-packages (from statsmodels) (1.22.4)\n",
      "Requirement already satisfied: scipy!=1.9.2,>=1.8 in /home/ubuntu/.local/lib/python3.10/site-packages (from statsmodels) (1.8.1)\n",
      "Requirement already satisfied: patsy>=0.5.6 in /home/ubuntu/.local/lib/python3.10/site-packages (from statsmodels) (0.5.6)\n",
      "Requirement already satisfied: pyparsing!=3.0.5,>=2.0.2 in /usr/lib/python3/dist-packages (from packaging>=21.3->statsmodels) (2.4.7)\n",
      "Requirement already satisfied: pytz>=2020.1 in /usr/lib/python3/dist-packages (from pandas!=2.1.0,>=1.4->statsmodels) (2022.1)\n",
      "Requirement already satisfied: python-dateutil>=2.8.1 in /home/ubuntu/.local/lib/python3.10/site-packages (from pandas!=2.1.0,>=1.4->statsmodels) (2.8.2)\n",
      "Requirement already satisfied: six in /usr/lib/python3/dist-packages (from patsy>=0.5.6->statsmodels) (1.16.0)\n"
     ]
    }
   ],
   "source": [
    "!pip install statsmodels"
   ]
  },
  {
   "cell_type": "code",
   "execution_count": 22,
   "id": "7e5262e0",
   "metadata": {},
   "outputs": [
    {
     "name": "stdout",
     "output_type": "stream",
     "text": [
      "Optimization terminated successfully.\n",
      "         Current function value: 0.565646\n",
      "         Iterations 6\n",
      "                           Logit Regression Results                           \n",
      "==============================================================================\n",
      "Dep. Variable:                 LungCA   No. Observations:                  715\n",
      "Model:                          Logit   Df Residuals:                      698\n",
      "Method:                           MLE   Df Model:                           16\n",
      "Date:                Thu, 23 May 2024   Pseudo R-squ.:                  0.1839\n",
      "Time:                        21:30:38   Log-Likelihood:                -404.44\n",
      "converged:                       True   LL-Null:                       -495.54\n",
      "Covariance Type:            nonrobust   LLR p-value:                 3.030e-30\n",
      "=========================================================================================\n",
      "                            coef    std err          z      P>|z|      [0.025      0.975]\n",
      "-----------------------------------------------------------------------------------------\n",
      "const                    -0.6302      0.623     -1.011      0.312      -1.852       0.591\n",
      "Age                       0.0046      0.008      0.564      0.573      -0.011       0.021\n",
      "Cooking_fume             -0.1364      0.183     -0.744      0.457      -0.496       0.223\n",
      "Cigarette_number          0.1158      0.014      8.093      0.000       0.088       0.144\n",
      "Herbicides_year          -0.0460      0.023     -2.007      0.045      -0.091      -0.001\n",
      "Herbicides_year_group    -0.1779      0.288     -0.617      0.537      -0.743       0.387\n",
      "Herbicides_day            0.0016      0.000      4.939      0.000       0.001       0.002\n",
      "Butachlor_Days        -9.857e-05      0.001     -0.140      0.889      -0.001       0.001\n",
      "Alachlor_use             -0.1972      0.444     -0.444      0.657      -1.068       0.674\n",
      "Alachlor_days             0.0009      0.001      1.613      0.107      -0.000       0.002\n",
      "Dieldrin_days             0.0009      0.001      1.812      0.070   -7.68e-05       0.002\n",
      "DDT_use                  -0.1501      0.525     -0.286      0.775      -1.180       0.880\n",
      "DDT_days              -7.513e-05      0.001     -0.072      0.943      -0.002       0.002\n",
      "Chlorpylifos_days         0.0019      0.000      4.495      0.000       0.001       0.003\n",
      "Carbaryl_Savins_use      -0.6121      0.427     -1.432      0.152      -1.450       0.225\n",
      "Carbofuran_days           0.0003      0.000      1.524      0.128   -9.57e-05       0.001\n",
      "Abamectin_use            -0.6375      0.260     -2.453      0.014      -1.147      -0.128\n",
      "=========================================================================================\n"
     ]
    }
   ],
   "source": [
    "### 07-DM\n",
    "\n",
    "# Logistic Regression\n",
    "import statsmodels.api as sm\n",
    "\n",
    "X=LC_selected_data\n",
    "y=LC_target\n",
    "X = sm.add_constant(X)\n",
    "X_train, X_test, y_train, y_test = train_test_split(X, y, test_size=0.2, random_state=42)\n",
    "\n",
    "logit_model = sm.Logit(y_train, X_train)\n",
    "\n",
    "result = logit_model.fit()\n",
    "\n",
    "print(result.summary())"
   ]
  },
  {
   "cell_type": "code",
   "execution_count": 23,
   "id": "97508953",
   "metadata": {},
   "outputs": [
    {
     "data": {
      "image/png": "[encoded data removed]",
      "text/plain": [
       "<Figure size 576x432 with 1 Axes>"
      ]
     },
     "metadata": {
      "needs_background": "light"
     },
     "output_type": "display_data"
    }
   ],
   "source": [
    "### 08-Int\n",
    "\n",
    "# Visualization\n",
    "import numpy as np\n",
    "coefficients = result.params\n",
    "z = np.dot(X_test, coefficients)\n",
    "sigmoid_values = 1 / (1 + np.exp(-z))\n",
    "\n",
    "import matplotlib.pyplot as plt\n",
    "\n",
    "def sigmoid(z):\n",
    "    return 1 / (1 + np.exp(-z))\n",
    "\n",
    "z_values = np.linspace(-10, 10, 1000)\n",
    "\n",
    "sigmoid_values = sigmoid(z_values)\n",
    "\n",
    "plt.figure(figsize=(8, 6))\n",
    "plt.plot(z_values, sigmoid_values, label='Sigmoid Function', color='b', linewidth=2)\n",
    "plt.title('Sigmoid Function')\n",
    "plt.xlabel('z')\n",
    "plt.ylabel('sigmoid(z)')\n",
    "plt.grid(True)\n",
    "plt.legend()\n",
    "plt.show()"
   ]
  },
  {
   "cell_type": "code",
   "execution_count": 24,
   "id": "f387502d",
   "metadata": {},
   "outputs": [
    {
     "data": {
      "image/png": "[encoded data removed]",
      "text/plain": [
       "<Figure size 720x432 with 1 Axes>"
      ]
     },
     "metadata": {
      "needs_background": "light"
     },
     "output_type": "display_data"
    }
   ],
   "source": [
    "import numpy as np\n",
    "import matplotlib.pyplot as plt\n",
    "\n",
    "intercept = -0.91\n",
    "coef_cigarette = 0.13\n",
    "coef_herbicides = 0.0018\n",
    "coef_chlorpylifos = 0.0019\n",
    "coef_carbofuran = 0.0007\n",
    "\n",
    "cigarette_number = np.linspace(0, 50) \n",
    "\n",
    "herbicides_day = 0  \n",
    "chlorpylifos_days = 0 \n",
    "carbofuran_days = 0 \n",
    "\n",
    "Y = (intercept + \n",
    "     coef_cigarette * cigarette_number + \n",
    "     coef_herbicides * herbicides_day + \n",
    "     coef_chlorpylifos * chlorpylifos_days + \n",
    "     coef_carbofuran * carbofuran_days)\n",
    "\n",
    "plt.figure(figsize=(10, 6))\n",
    "plt.plot(cigarette_number, Y, label='Predicted Outcome (Y)')\n",
    "plt.xlabel('Cigarette Number')\n",
    "plt.ylabel('Predicted Outcome (Y)')\n",
    "plt.title('Multiple Regression: Predicted Outcome vs Cigarette Number')\n",
    "plt.legend()\n",
    "plt.grid(True)\n",
    "plt.show()"
   ]
  },
  {
   "cell_type": "code",
   "execution_count": 25,
   "id": "c4c5032b",
   "metadata": {},
   "outputs": [
    {
     "name": "stdout",
     "output_type": "stream",
     "text": [
      "Accuracy: 0.664804469273743\n",
      "              precision    recall  f1-score   support\n",
      "\n",
      "           0       0.65      0.80      0.71        94\n",
      "           1       0.70      0.52      0.59        85\n",
      "\n",
      "    accuracy                           0.66       179\n",
      "   macro avg       0.67      0.66      0.65       179\n",
      "weighted avg       0.67      0.66      0.66       179\n",
      "\n",
      "AUC: 0.7142678347934919\n"
     ]
    }
   ],
   "source": [
    "# Assessing model\n",
    "from sklearn.metrics import classification_report\n",
    "y_pred = result.predict(X_test)\n",
    "\n",
    "y_pred_binary = (y_pred > 0.5).astype(int)\n",
    "\n",
    "accuracy = accuracy_score(y_test, y_pred_binary)\n",
    "print(\"Accuracy:\", accuracy)\n",
    "\n",
    "print(classification_report(y_test, y_pred_binary))\n",
    "\n",
    "from sklearn.metrics import roc_auc_score\n",
    "auc = roc_auc_score(y_test, y_pred)\n",
    "print(\"AUC:\", auc)"
   ]
  },
  {
   "cell_type": "code",
   "execution_count": 26,
   "id": "e9e7f388",
   "metadata": {},
   "outputs": [
    {
     "name": "stdout",
     "output_type": "stream",
     "text": [
      "Selected features: [0, 1, 3, 5, 9, 10, 12, 13, 14, 27, 33, 37, 38, 43, 45, 50, 53, 54]\n",
      "Index(['Gender', 'Age', 'Occupation', 'Cooking_fume', 'Cigarette_number',\n",
      "       'Cig_Total_Num', 'Herbicides_year', 'Herbicides_year_group',\n",
      "       'Herbicides_day', 'Glyphosate_days', 'Butachlor_Days', 'Alachlor_days',\n",
      "       'Endosalfan_use', 'DDT_days', 'Chlorpylifos_days',\n",
      "       'Carbaryl_Savins_use', 'Carbofuran_days', 'Abamectin_use'],\n",
      "      dtype='object')\n"
     ]
    }
   ],
   "source": [
    "# Iteration\n",
    "\n",
    "from sklearn.linear_model import LogisticRegression\n",
    "from sklearn.model_selection import train_test_split\n",
    "from sklearn.preprocessing import StandardScaler\n",
    "\n",
    "LC_data = LC_df.iloc[:, 2:]\n",
    "LC_target = LC_df['LungCA']\n",
    "X, y = LC_data, LC_target \n",
    "\n",
    "X_train, X_test, y_train, y_test = train_test_split(X, y, test_size=0.3, random_state=42)\n",
    "\n",
    "scaler = StandardScaler()\n",
    "X_train_scaled = scaler.fit_transform(X_train)\n",
    "X_test_scaled = scaler.transform(X_test)\n",
    "\n",
    "logreg = LogisticRegression(penalty='l1', solver='liblinear', C=0.1)\n",
    "logreg.fit(X_train_scaled, y_train)\n",
    "\n",
    "selected_features = [index for index, coef in enumerate(logreg.coef_[0]) if coef != 0]\n",
    "\n",
    "print(\"Selected features:\", selected_features)\n",
    "\n",
    "print(LC_data.columns[[0, 1, 3, 5, 9, 10, 12, 13, 14, 27, 33, 37, 38, 43, 45, 50, 53, 54]])"
   ]
  },
  {
   "cell_type": "code",
   "execution_count": 32,
   "id": "85454fe9",
   "metadata": {},
   "outputs": [],
   "source": [
    "# Boosting uneven data\n",
    "import pandas as pd\n",
    "from sklearn.utils import resample\n",
    "LC_df_NCA=LC_df[LC_df['LungCA']==0] \n",
    "LC_df_CA=LC_df[LC_df['LungCA']==1] \n",
    "LC_df_CA_boost=resample(LC_df_CA,replace=True,n_samples=len(LC_df_NCA))\n",
    "LC_df_boosted=pd.concat([LC_df_NCA,LC_df_CA_boost])"
   ]
  },
  {
   "cell_type": "code",
   "execution_count": 33,
   "id": "c2915986",
   "metadata": {},
   "outputs": [],
   "source": [
    "# Create target and attributes\n",
    "LC_target=LC_df_boosted['LungCA']\n",
    "LC_selected_data=LC_df_boosted[['Gender', 'Age', 'Occupation', 'Cooking_fume', 'Cigarette_number',\n",
    "       'Cig_Total_Num', 'Herbicides_year', 'Herbicides_year_group',\n",
    "       'Herbicides_day', 'Glyphosate_days', 'Butachlor_Days', 'Alachlor_days',\n",
    "       'Endosalfan_use', 'DDT_days', 'Chlorpylifos_days',\n",
    "       'Carbaryl_Savins_use', 'Carbofuran_days', 'Abamectin_use']]"
   ]
  },
  {
   "cell_type": "code",
   "execution_count": 34,
   "id": "da7daca8",
   "metadata": {},
   "outputs": [
    {
     "data": {
      "text/plain": [
       "0.6666666666666666"
      ]
     },
     "execution_count": 34,
     "metadata": {},
     "output_type": "execute_result"
    }
   ],
   "source": [
    "# SVM\n",
    "from sklearn.svm import SVC\n",
    "\n",
    "SVCfit=SVC().fit(X_train,y_train)\n",
    "\n",
    "SVCfit.score(X_test,y_test)"
   ]
  },
  {
   "cell_type": "code",
   "execution_count": 36,
   "id": "fec96e3b",
   "metadata": {},
   "outputs": [
    {
     "name": "stdout",
     "output_type": "stream",
     "text": [
      "Accuracy: 0.6505576208178439\n"
     ]
    },
    {
     "name": "stderr",
     "output_type": "stream",
     "text": [
      "/home/ubuntu/.local/lib/python3.10/site-packages/sklearn/linear_model/_logistic.py:469: ConvergenceWarning: lbfgs failed to converge (status=1):\n",
      "STOP: TOTAL NO. of ITERATIONS REACHED LIMIT.\n",
      "\n",
      "Increase the number of iterations (max_iter) or scale the data as shown in:\n",
      "    https://scikit-learn.org/stable/modules/preprocessing.html\n",
      "Please also refer to the documentation for alternative solver options:\n",
      "    https://scikit-learn.org/stable/modules/linear_model.html#logistic-regression\n",
      "  n_iter_i = _check_optimize_result(\n"
     ]
    }
   ],
   "source": [
    "# Reiterated Logistic Regression\n",
    "import pandas as pd\n",
    "from sklearn.model_selection import train_test_split\n",
    "from sklearn.linear_model import LogisticRegression\n",
    "from sklearn.metrics import accuracy_score\n",
    "\n",
    "X=LC_selected_data\n",
    "y=LC_target\n",
    "\n",
    "X_train, X_test, y_train, y_test = train_test_split(X, y, test_size=0.3, random_state=42)\n",
    "\n",
    "logreg = LogisticRegression()\n",
    "logreg.fit(X_train, y_train)\n",
    "\n",
    "y_pred = logreg.predict(X_test)\n",
    "\n",
    "accuracy = accuracy_score(y_test, y_pred)\n",
    "print(\"Accuracy:\", accuracy)"
   ]
  }
 ],
 "metadata": {
  "kernelspec": {
   "display_name": "Python 3 (ipykernel)",
   "language": "python",
   "name": "python3"
  },
  "language_info": {
   "codemirror_mode": {
    "name": "ipython",
    "version": 3
   },
   "file_extension": ".py",
   "mimetype": "text/x-python",
   "name": "python",
   "nbconvert_exporter": "python",
   "pygments_lexer": "ipython3",
   "version": "3.10.12"
  }
 },
 "nbformat": 4,
 "nbformat_minor": 5
}
